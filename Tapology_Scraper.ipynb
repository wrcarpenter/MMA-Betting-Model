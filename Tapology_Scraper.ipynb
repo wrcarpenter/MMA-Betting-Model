{
  "nbformat": 4,
  "nbformat_minor": 0,
  "metadata": {
    "colab": {
      "name": "Tapology-Scraper.ipynb",
      "provenance": [],
      "collapsed_sections": []
    },
    "kernelspec": {
      "name": "python3",
      "display_name": "Python 3"
    },
    "language_info": {
      "name": "python"
    }
  },
  "cells": [
    {
      "cell_type": "code",
      "metadata": {
        "id": "RRfMGSjLpfZ-"
      },
      "source": [
        "# Title: Tapology Scraper with Python\n",
        "# Author: Will Carpenter\n",
        "# Date: 02.10.22 \n",
        "\n",
        "# Import data \n",
        "# Importing \n",
        "import requests\n",
        "import csv \n",
        "import re\n",
        "from bs4 import BeautifulSoup\n",
        "import pandas as pd\n",
        "import numpy as np\n",
        "import time\n",
        "from google.colab import files\n",
        "import datetime\n",
        "from datetime import date\n",
        "from pytz import timezone\n",
        "eastern = timezone('US/Eastern')\n",
        "import threading \n",
        "from concurrent.futures import ThreadPoolExecutor\n",
        "import multiprocessing\n",
        "cores = multiprocessing.cpu_count()"
      ],
      "execution_count": 1,
      "outputs": []
    },
    {
      "cell_type": "code",
      "metadata": {
        "id": "tlC4eN9kpl2K"
      },
      "source": [
        "ufc_event_list = 'https://www.tapology.com/search?term=ufc&mainSearchFilter=events'\n",
        "bellator_event_list = 'https://www.tapology.com/search?term=bellator&commit=Submit&model%5Bevents%5D=eventsSearch'\n",
        "\n",
        "ufc_page = requests.get(ufc_event_list)\n",
        "ufc_soup = BeautifulSoup(ufc_page.text, 'html.parser')\n",
        "all_links = ufc_soup.find_all('a')\n",
        "\n",
        "event_string = 'https://www.tapology.com/fightcenter/events/'\n",
        "ufcEvents = []\n",
        "\n",
        "# Get all UFC links in the list \n",
        "for links in all_links:\n",
        "  thisLink = str(links.get('href'))\n",
        "  thisLink = 'https://www.tapology.com' + thisLink # adjust URL to function\n",
        "  if event_string in thisLink:\n",
        "    ufcEvents.append(thisLink)\n",
        "    print(thisLink)\n",
        "  else:\n",
        "    print(\"Skipped: \", thisLink)\n",
        "    continue   \n",
        "\n",
        "# get all the links\n",
        "  # get all the dates and bouts \n",
        "# for each link:\n",
        "# go through and get best fight odds link for the fight\n",
        "\n",
        "\n"
      ],
      "execution_count": null,
      "outputs": []
    }
  ]
}