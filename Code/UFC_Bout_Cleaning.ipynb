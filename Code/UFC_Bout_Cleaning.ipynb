{
  "nbformat": 4,
  "nbformat_minor": 0,
  "metadata": {
    "colab": {
      "provenance": [],
      "mount_file_id": "1fsJoteLfcEnA-0BSMEWmEj5f9IMqV--F",
      "authorship_tag": "ABX9TyMiHfGDwOp97uwyZ47zqdvA",
      "include_colab_link": true
    },
    "kernelspec": {
      "name": "python3",
      "display_name": "Python 3"
    },
    "language_info": {
      "name": "python"
    }
  },
  "cells": [
    {
      "cell_type": "markdown",
      "metadata": {
        "id": "view-in-github",
        "colab_type": "text"
      },
      "source": [
        "<a href=\"https://colab.research.google.com/github/wrcarpenter/MMA-Handicapping-Model/blob/main/Code/UFC_Bout_Cleaning.ipynb\" target=\"_parent\"><img src=\"https://colab.research.google.com/assets/colab-badge.svg\" alt=\"Open In Colab\"/></a>"
      ]
    },
    {
      "cell_type": "markdown",
      "source": [
        "# Importing"
      ],
      "metadata": {
        "id": "r1dEaWm5abQ2"
      }
    },
    {
      "cell_type": "code",
      "execution_count": 32,
      "metadata": {
        "id": "tlaFk13PwBhg"
      },
      "outputs": [],
      "source": [
        "#Importing\n",
        "import requests\n",
        "import csv \n",
        "import re\n",
        "from bs4 import BeautifulSoup\n",
        "import pandas as pd\n",
        "import numpy as np\n",
        "import time\n",
        "from google.colab import files\n",
        "import datetime\n",
        "from datetime import date\n",
        "from pytz import timezone\n",
        "eastern = timezone('US/Eastern')\n",
        "import threading \n",
        "from concurrent.futures import ThreadPoolExecutor\n",
        "import multiprocessing\n",
        "cores = multiprocessing.cpu_count()"
      ]
    },
    {
      "cell_type": "markdown",
      "source": [
        "# Read in Dataset\n"
      ],
      "metadata": {
        "id": "zwOlHwo2aPNw"
      }
    },
    {
      "cell_type": "code",
      "source": [
        "source = 'https://raw.githubusercontent.com/wrcarpenter/MMA-Handicapping-Model/main/Data/ufcBouts_v3.csv'  \n",
        "df      = pd.read_csv(source, header=0) \n",
        "df_orig = df # preserve a copy in case"
      ],
      "metadata": {
        "id": "GdSMsbIcwHjC"
      },
      "execution_count": 22,
      "outputs": []
    },
    {
      "cell_type": "markdown",
      "source": [
        "# Data Summary \n",
        "\n",
        "Review data composition for general understanding and debugging purposes. The current construction of the raw dataset should contain 29 columns. "
      ],
      "metadata": {
        "id": "RwoMcJKoaej2"
      }
    },
    {
      "cell_type": "code",
      "source": [
        "# Explore the dataset \n",
        "print(df.columns)\n",
        "# Columns in dataset \n",
        "print(df.shape[1]) # raw dataset should have 29 columns \n",
        "# Unique fighters\n",
        "print(\"Number of Unique Fighters: \", len(pd.unique(df['name'])))  # unique fighters\n",
        "# Number of fights (nows in dataset)\n",
        "print(\"Total Fights Recorded: \", len(df))\n",
        "# Number of unique fights in the dataset \n",
        "print(\"Number of Unique Fights: \", len(pd.unique(df['fight_link'])))  \n"
      ],
      "metadata": {
        "id": "NUb7Prt_S-E-"
      },
      "execution_count": null,
      "outputs": []
    },
    {
      "cell_type": "markdown",
      "source": [
        "# Create Variables \n",
        "\n",
        "First need to decide what fights in the dataset are upcoming or not. Probably the best way to approach fights is only keep data on completed (all stats are there) type of fights because its unclear to me how the newer ones update.\n",
        "\n",
        "Need to handle missing data: birthdays, reach, height, etc.\n",
        "\n",
        "Clean data for various variables and then being calculations to generate for model. "
      ],
      "metadata": {
        "id": "K9VvkMrAaiEO"
      }
    },
    {
      "cell_type": "markdown",
      "source": [],
      "metadata": {
        "id": "cvvZ7P_-13XK"
      }
    },
    {
      "cell_type": "code",
      "source": [
        "# Eliminate any missing DOB (can fill this in later)\n",
        "df = df[df['dob'] != \"--\"]  # drops missing birthdays from the data \n",
        "print(len(df) - len(df_orig))  # drops 865 obs currently\n",
        "# Sort dob\n",
        "df['dob'] = df['dob'].replace(',', '', regex=True)  # replace commas\n",
        "df['dob'] = df['dob'].replace('--', '', regex=True)  # replace commas\n",
        "df['dob'] = pd.to_datetime(df['dob'], format=\"%m/%d/%Y\")\n",
        "# Sort event date\n",
        "df['event_date'] = df['event_date'].replace(',', '', regex=True)  # replace commas \n",
        "df['event_date'] = pd.to_datetime(df['event_date'], format=\"%m/%d/%Y\")\n",
        "# Sorts in new data \n",
        "df = df.sort_values(by=['fighter_profile', 'event_date'], ascending=True)\n",
        "# Show results\n",
        "# df.loc[df['name'] == 'Jon Jones', ['event_date', 'event', 'total_fights']]"
      ],
      "metadata": {
        "id": "Xw8zstm9TI-1"
      },
      "execution_count": null,
      "outputs": []
    },
    {
      "cell_type": "markdown",
      "source": [
        "## Variable Creation\n",
        "\n",
        "* Height\n",
        "* Reach\n",
        "* Years on roster (i.e. yrs since first recorded fight)\n",
        "* Current Age\n",
        "* Previous number of recorded rights \n",
        "* Weeks since last fight\n",
        "* result of last fight\n",
        "* result of second to last fight\n",
        "* Current win streak?\n",
        "* Current loss streak?\n",
        "* Longest loss streak \n",
        "* longest win streak\n",
        "* lost by KO in last 4 fights\n",
        "* ever lost by KO?\n",
        "* ever lost by submission?\n",
        "\n",
        "# Other data \n",
        "\n",
        "There is additional performance data provided by UFC stats that is not necessarily available from other sites. This is inter-fight data such as: number of knockdowns, total significant strikes, etc. \n",
        "\n",
        "At the moment, this kind of data is not being implemented into the model. The main focus is accumulating other data from sites (such as Tapology) to enhance testing."
      ],
      "metadata": {
        "id": "_J0aab27u2p-"
      }
    },
    {
      "cell_type": "code",
      "source": [
        "# Current age of fighter at date time (years)\n",
        "df['current_age'] = (df['event_date'] - df['dob']) / np.timedelta64(1, 'Y')\n",
        "\n",
        "# Number of previous recorded fights in data \n",
        "df['ones'] = 1\n",
        "df['prev_num_fights'] = df.groupby(['fighter_profile'])['ones'].cumsum() - 1\n",
        "# df.drop(columns=['total_fights'])\n",
        "\n",
        "# Weeks since previous fight\n",
        "df['wks_since_last_fight'] = df.groupby(['fighter_profile'])['event_date'].diff()  # total time between date values\n",
        "df['wks_since_last_fight'] = df['wks_since_last_fight'] / np.timedelta64(1, 'W')   # this includes some NaN \n",
        " \n",
        "# Result of last fight \n",
        "# Need to breakdown the results by some kind of number pattern \n",
        "\n",
        "# Main fight results (binary variable)\n",
        "df['win']        = df['fighter_result'].apply(lambda x: 1 if x == 'W' else 0)\n",
        "df['no_contest'] = df['fighter_result'].apply(lambda x: 1 if x == 'NC' else 0)\n",
        "df['draw']       = df['fighter_result'].apply(lambda x: 1 if x == 'D' else 0)\n",
        "# Granular result metrics (if betting on KO win or something else)\n",
        "# there are some other fields included in these results\n",
        "df['ko']    = df['method'].apply(lambda x: 1 if x == 'KO/TKO' or x == \"TKO - Doctor's Stoppage\" or x == \"Could Not Continue\" else 0)\n",
        "df['sub']   = df['method'].apply(lambda x: 1 if x == 'Submission' else 0)\n",
        "df['dec']   = df['method'].apply(lambda x: 1 if x == 'Decision - Unanimous' or x == \"Decision - Split\" or x == \"Decision\" else 0)\n",
        "\n",
        "# Result of second to last fight  \n",
        "# KOed in last four fights?    true or false\n",
        "# Subed in last four fights?   true or false\n",
        "\n",
        "# Testing results \n",
        "df.loc[df['name'] == 'Jon Jones', ['event_date', 'event', 'prev_num_fights']]\n",
        "df.loc[df['name'] == 'Conor McGregor', ['event_date', 'event', 'prev_num_fights', 'wks_since_last_fight', 'win', 'ko_win']]\n"
      ],
      "metadata": {
        "id": "OVQUZjewmGL5"
      },
      "execution_count": 25,
      "outputs": []
    },
    {
      "cell_type": "code",
      "source": [
        "df['fighter_result'].value_counts()  # win, loss, no-contest, draw\n",
        "df['method'].value_counts()\n",
        "df.columns"
      ],
      "metadata": {
        "id": "IbntWS5lojD-"
      },
      "execution_count": null,
      "outputs": []
    },
    {
      "cell_type": "markdown",
      "source": [
        "## Exporting Data\n"
      ],
      "metadata": {
        "id": "iWtPg87I3Rkb"
      }
    },
    {
      "cell_type": "code",
      "source": [
        "df.to_excel('/content/drive/MyDrive/MMA Model/Data/ufcbouts_model_v1.xlsx')\n",
        "df.to_csv('/content/drive/MyDrive/MMA Model/Data/ufcbouts_model_v1.csv')\n",
        "# Download files if needed \n",
        "files.download('/content/drive/MyDrive/MMA Model/Data/ufcbouts_model_v1.csv')\n",
        "files.download('/content/drive/MyDrive/MMA Model/Data/ufcbouts_model_v1.xlsx')"
      ],
      "metadata": {
        "id": "r5NUr2JlqTSw"
      },
      "execution_count": null,
      "outputs": []
    }
  ]
}