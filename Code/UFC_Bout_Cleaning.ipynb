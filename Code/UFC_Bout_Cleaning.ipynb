{
  "nbformat": 4,
  "nbformat_minor": 0,
  "metadata": {
    "colab": {
      "provenance": [],
      "authorship_tag": "ABX9TyPRyF8onGl7rSBQyccSDDJ8",
      "include_colab_link": true
    },
    "kernelspec": {
      "name": "python3",
      "display_name": "Python 3"
    },
    "language_info": {
      "name": "python"
    }
  },
  "cells": [
    {
      "cell_type": "markdown",
      "metadata": {
        "id": "view-in-github",
        "colab_type": "text"
      },
      "source": [
        "<a href=\"https://colab.research.google.com/github/wrcarpenter/MMA-Handicapping-Model/blob/main/Code/UFC_Bout_Cleaning.ipynb\" target=\"_parent\"><img src=\"https://colab.research.google.com/assets/colab-badge.svg\" alt=\"Open In Colab\"/></a>"
      ]
    },
    {
      "cell_type": "markdown",
      "source": [
        "# Importing"
      ],
      "metadata": {
        "id": "r1dEaWm5abQ2"
      }
    },
    {
      "cell_type": "code",
      "execution_count": 13,
      "metadata": {
        "id": "tlaFk13PwBhg"
      },
      "outputs": [],
      "source": [
        "#Importing\n",
        "import requests\n",
        "import csv \n",
        "import re\n",
        "from bs4 import BeautifulSoup\n",
        "import pandas as pd\n",
        "import numpy as np\n",
        "import time\n",
        "from google.colab import files\n",
        "import datetime\n",
        "from datetime import date\n",
        "from pytz import timezone\n",
        "eastern = timezone('US/Eastern')\n",
        "import threading \n",
        "from concurrent.futures import ThreadPoolExecutor\n",
        "import multiprocessing\n",
        "cores = multiprocessing.cpu_count()"
      ]
    },
    {
      "cell_type": "markdown",
      "source": [
        "# Read in Dataset\n"
      ],
      "metadata": {
        "id": "zwOlHwo2aPNw"
      }
    },
    {
      "cell_type": "code",
      "source": [
        "source = 'https://raw.githubusercontent.com/wrcarpenter/MMA-Handicapping-Model/main/Data/ufcBouts_v3.csv'  \n",
        "df      = pd.read_csv(source, header=0) \n",
        "df_orig = df # preserve a copy in case"
      ],
      "metadata": {
        "id": "GdSMsbIcwHjC"
      },
      "execution_count": 14,
      "outputs": []
    },
    {
      "cell_type": "markdown",
      "source": [
        "# Data Summary \n",
        "\n",
        "Review data composition for general understanding and debugging purposes. The current construction of the raw dataset should contain 29 columns. "
      ],
      "metadata": {
        "id": "RwoMcJKoaej2"
      }
    },
    {
      "cell_type": "code",
      "source": [
        "# Explore the dataset \n",
        "print(df.columns)\n",
        "# Columns in dataset \n",
        "print(df.shape[1]) # raw dataset should have 29 columns \n",
        "# Unique fighters\n",
        "print(\"Number of Unique Fighters: \", len(pd.unique(df['name'])))  # unique fighters\n",
        "# Number of fights (nows in dataset)\n",
        "print(\"Total Fights Recorded: \", len(df))\n",
        "# Number of unique fights in the dataset \n",
        "print(\"Number of Unique Fights: \", len(pd.unique(df['fight_link'])))  \n"
      ],
      "metadata": {
        "id": "NUb7Prt_S-E-"
      },
      "execution_count": null,
      "outputs": []
    },
    {
      "cell_type": "markdown",
      "source": [
        "# Create Variables \n",
        "\n",
        "First need to decide what fights in the dataset are upcoming or not. Probably the best way to approach fights is only keep data on completed (all stats are there) type of fights because its unclear to me how the newer ones update.\n",
        "\n",
        "Need to handle missing data: birthdays, reach, height, etc.\n",
        "\n",
        "Clean data for various variables and then being calculations to generate for model. "
      ],
      "metadata": {
        "id": "K9VvkMrAaiEO"
      }
    },
    {
      "cell_type": "markdown",
      "source": [],
      "metadata": {
        "id": "cvvZ7P_-13XK"
      }
    },
    {
      "cell_type": "code",
      "source": [
        "# Eliminate any missing DOB (can fill this in later)\n",
        "df = df[df['dob'] != \"--\"]  # drops missing birthdays from the data \n",
        "print(len(df) - len(df_orig))  # drops 865 obs\n",
        "# Sort dob\n",
        "df['dob'] = df['dob'].replace(',', '', regex=True)  # replace commas\n",
        "df['dob'] = df['dob'].replace('--', '', regex=True)  # replace commas\n",
        "df['dob'] = pd.to_datetime(df['dob'], format=\"%m/%d/%Y\")\n",
        "# Sort event date\n",
        "df['event_date'] = df['event_date'].replace(',', '', regex=True)  # replace commas \n",
        "df['event_date'] = pd.to_datetime(df['event_date'], format=\"%m/%d/%Y\")\n",
        "# Sorts in new data \n",
        "df = df.sort_values(by=['fighter_profile', 'event_date'], ascending=True)\n",
        "# Show results\n",
        "df.loc[df['name'] == 'Jon Jones', ['event_date', 'event', 'total_fights']]"
      ],
      "metadata": {
        "id": "Xw8zstm9TI-1"
      },
      "execution_count": null,
      "outputs": []
    },
    {
      "cell_type": "code",
      "source": [
        "# Current age of fighter at date time (years)\n",
        "df['current_age'] = (df['event_date'] - df['dob']) / np.timedelta64(1, 'Y')\n",
        "\n",
        "# Number of previous recorded fights in data \n",
        "df['ones'] = 1\n",
        "df['prev_num_fights'] = df.groupby(['fighter_profile'])['ones'].cumsum() - 1\n",
        "# df.drop(columns=['total_fights'])\n",
        "\n",
        "# Weeks since previous fight\n",
        "df['wks_since_last_fight'] = df.groupby(['fighter_profile'])['event_date'].diff()  # total time between date values\n",
        "df['wks_since_last_fight'] = df['wks_since_last_fight'] / np.timedelta64(1, 'W')   # this includes some NaN \n",
        " \n",
        "# Result of last fight \n",
        "# Need to breakdown the results by some kind of number pattern \n",
        "\n",
        "# Result of second to last fight  \n",
        "\n",
        "# KOed in last four fights?    true or false\n",
        "# Subed in last four fights?   true or false\n",
        "\n",
        "# Testing results \n",
        "df.loc[df['name'] == 'Jon Jones', ['event_date', 'event', 'prev_num_fights']]\n",
        "df.loc[df['name'] == 'Conor McGregor', ['event_date', 'event', 'prev_num_fights', 'wks_since_last_fight']]\n"
      ],
      "metadata": {
        "id": "OVQUZjewmGL5"
      },
      "execution_count": null,
      "outputs": []
    },
    {
      "cell_type": "code",
      "source": [
        "df['fighter_result'].value_counts()  # win, loss, no-contest, draw\n",
        "\n",
        "df['method'].value_counts()\n",
        "\n",
        "df.columns"
      ],
      "metadata": {
        "id": "IbntWS5lojD-"
      },
      "execution_count": null,
      "outputs": []
    }
  ]
}