{
  "nbformat": 4,
  "nbformat_minor": 0,
  "metadata": {
    "colab": {
      "provenance": [],
      "authorship_tag": "ABX9TyNIMWk36rM5E+WOKyffKNOI"
    },
    "kernelspec": {
      "name": "python3",
      "display_name": "Python 3"
    },
    "language_info": {
      "name": "python"
    }
  },
  "cells": [
    {
      "cell_type": "markdown",
      "source": [
        "# Importing"
      ],
      "metadata": {
        "id": "r1dEaWm5abQ2"
      }
    },
    {
      "cell_type": "code",
      "execution_count": 1,
      "metadata": {
        "id": "tlaFk13PwBhg"
      },
      "outputs": [],
      "source": [
        "#Importing\n",
        "import requests\n",
        "import csv \n",
        "import re\n",
        "from bs4 import BeautifulSoup\n",
        "import pandas as pd\n",
        "import numpy as np\n",
        "import time\n",
        "from google.colab import files\n",
        "import datetime\n",
        "from datetime import date\n",
        "from pytz import timezone\n",
        "eastern = timezone('US/Eastern')\n",
        "import threading \n",
        "from concurrent.futures import ThreadPoolExecutor\n",
        "import multiprocessing\n",
        "cores = multiprocessing.cpu_count()"
      ]
    },
    {
      "cell_type": "markdown",
      "source": [
        "# Read in Dataset\n"
      ],
      "metadata": {
        "id": "zwOlHwo2aPNw"
      }
    },
    {
      "cell_type": "code",
      "source": [
        "source = 'https://raw.githubusercontent.com/wrcarpenter/MMA-Handicapping-Model/main/Data/ufcBouts_v2.csv'  \n",
        "df      = pd.read_csv(source, header=0) \n",
        "df_orig = df # preserve a copy in case"
      ],
      "metadata": {
        "id": "GdSMsbIcwHjC"
      },
      "execution_count": 3,
      "outputs": []
    },
    {
      "cell_type": "markdown",
      "source": [
        "# Data Summary \n",
        "\n",
        "Review data composition for general understanding and debugging purposes. The current construction of the raw dataset should contain 29 columns. "
      ],
      "metadata": {
        "id": "RwoMcJKoaej2"
      }
    },
    {
      "cell_type": "code",
      "source": [
        "# Explore the dataset \n",
        "print(df.columns)\n",
        "# Columns in dataset \n",
        "print(df.shape[1]) # raw dataset should have 29 columns \n",
        "# Unique fighters\n",
        "print(\"Number of Unique Fighters: \", len(pd.unique(df['name'])))  # unique fighters\n",
        "# Number of fights (nows in dataset)\n",
        "print(\"Total Fights Recorded: \", len(df))\n",
        "# Number of unique fights in the dataset \n",
        "print(\"Number of Unique Fights: \", len(pd.unique(df['fight_link'])))  \n"
      ],
      "metadata": {
        "id": "NUb7Prt_S-E-"
      },
      "execution_count": null,
      "outputs": []
    },
    {
      "cell_type": "markdown",
      "source": [
        "# Create Variables \n",
        "\n",
        "First need to decide what fights in the dataset are upcoming or not. Probably the best way to approach fights is only keep data on completed (all stats are there) type of fights because its unclear to me how the newer ones update.\n",
        "\n",
        "Need to handle missing data: birthdays, reach, height, etc.\n",
        "\n",
        "Clean data for various variables and then being calculations to generate for model. "
      ],
      "metadata": {
        "id": "K9VvkMrAaiEO"
      }
    },
    {
      "cell_type": "markdown",
      "source": [],
      "metadata": {
        "id": "cvvZ7P_-13XK"
      }
    },
    {
      "cell_type": "code",
      "source": [
        "df = df[df['dob'] != \"--\"]  # drops missing birthdays from the data \n",
        "print(len(df) - len(df_orig))  # drops 865 obs\n",
        "\n",
        "df['dob'] = df['dob'].replace(',', '', regex=True)  # replace commas\n",
        "df['dob'] = df['dob'].replace('--', '', regex=True)  # replace commas\n",
        "df['dob_new'] = pd.to_datetime(df['dob'], format=\"%b %d %Y\")\n",
        "\n",
        "df['event_date'] = df['event_date'].replace(',', '', regex=True)  # replace commas \n",
        "df['event_date'] = pd.to_datetime(df['event_date'], format=\"%B %d %Y\")\n",
        "\n",
        "# Sorts in new data \n",
        "df = df.sort_values(by=['fighter_profile', 'event_date'], ascending=False)\n",
        "\n",
        "# Show results\n",
        "df.loc[df['name'] == 'Jon Jones', ['event_date', 'event']]\n",
        "\n"
      ],
      "metadata": {
        "id": "Xw8zstm9TI-1"
      },
      "execution_count": null,
      "outputs": []
    }
  ]
}