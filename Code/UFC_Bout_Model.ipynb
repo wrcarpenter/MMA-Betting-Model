{
  "nbformat": 4,
  "nbformat_minor": 0,
  "metadata": {
    "colab": {
      "provenance": [],
      "mount_file_id": "1fsJoteLfcEnA-0BSMEWmEj5f9IMqV--F",
      "authorship_tag": "ABX9TyNg1mvVj8nFp+243COSIvpe",
      "include_colab_link": true
    },
    "kernelspec": {
      "name": "python3",
      "display_name": "Python 3"
    },
    "language_info": {
      "name": "python"
    }
  },
  "cells": [
    {
      "cell_type": "markdown",
      "metadata": {
        "id": "view-in-github",
        "colab_type": "text"
      },
      "source": [
        "<a href=\"https://colab.research.google.com/github/wrcarpenter/MMA-Handicapping-Model/blob/main/Code/UFC_Bout_Model.ipynb\" target=\"_parent\"><img src=\"https://colab.research.google.com/assets/colab-badge.svg\" alt=\"Open In Colab\"/></a>"
      ]
    },
    {
      "cell_type": "markdown",
      "source": [
        "# Importing"
      ],
      "metadata": {
        "id": "r1dEaWm5abQ2"
      }
    },
    {
      "cell_type": "code",
      "execution_count": 38,
      "metadata": {
        "id": "tlaFk13PwBhg"
      },
      "outputs": [],
      "source": [
        "#Importing\n",
        "import requests\n",
        "import csv \n",
        "import re\n",
        "from bs4 import BeautifulSoup\n",
        "import pandas as pd\n",
        "import numpy as np\n",
        "import time\n",
        "from google.colab import files\n",
        "import datetime\n",
        "from datetime import date\n",
        "from pytz import timezone\n",
        "eastern = timezone('US/Eastern')\n",
        "import threading \n",
        "from concurrent.futures import ThreadPoolExecutor\n",
        "import multiprocessing\n",
        "cores = multiprocessing.cpu_count()"
      ]
    },
    {
      "cell_type": "markdown",
      "source": [
        "# Read in Dataset\n"
      ],
      "metadata": {
        "id": "zwOlHwo2aPNw"
      }
    },
    {
      "cell_type": "code",
      "source": [
        "source = 'https://raw.githubusercontent.com/wrcarpenter/MMA-Handicapping-Model/main/Data/ufcBouts_model_v1.csv'  \n",
        "df      = pd.read_csv(source, header=0) \n",
        "df_orig = df # preserve a copy in case"
      ],
      "metadata": {
        "id": "GdSMsbIcwHjC"
      },
      "execution_count": 23,
      "outputs": []
    },
    {
      "cell_type": "markdown",
      "source": [
        "# Data Summary \n",
        "\n",
        "Review data composition for general understanding and debugging purposes. The current construction of the raw dataset should contain 29 columns. "
      ],
      "metadata": {
        "id": "RwoMcJKoaej2"
      }
    },
    {
      "cell_type": "code",
      "source": [
        "# Explore the dataset \n",
        "print(df.columns)\n",
        "# Columns in dataset \n",
        "print(df.shape[1]) # raw dataset should have 29 columns \n",
        "# Unique fighters\n",
        "print(\"Number of Unique Fighters: \", len(pd.unique(df['name'])))  # unique fighters\n",
        "# Number of fights (nows in dataset)\n",
        "print(\"Total Fights Recorded: \", len(df))\n",
        "# Number of unique fights in the dataset \n",
        "print(\"Number of Unique Fights: \", len(pd.unique(df['fight_link'])))  \n"
      ],
      "metadata": {
        "id": "NUb7Prt_S-E-"
      },
      "execution_count": null,
      "outputs": []
    },
    {
      "cell_type": "markdown",
      "source": [
        "## Randomly Drop Duplicate Observations\n",
        "\n",
        "Group by fight-link. Then by group randomy assign a zero or 1 with 50/50 percent chance to each duplicate fight link. Then drop all zeros. \n",
        "\n",
        "Now you have a unique fight dataset to run regressions from. Then maybe you take this model and you test it on a subsample for accuracy or you test it on Bellator fight data!!\n",
        "\n",
        "But now you can use the model to run fight updates. \n"
      ],
      "metadata": {
        "id": "iWtPg87I3Rkb"
      }
    },
    {
      "cell_type": "code",
      "source": [
        "df.columns\n",
        "\n",
        "df.head()"
      ],
      "metadata": {
        "id": "Z9aJqgbZCiG6"
      },
      "execution_count": null,
      "outputs": []
    },
    {
      "cell_type": "code",
      "source": [
        "# create a logit model \n",
        "\n",
        "# in place? probably does not matter\n",
        "df = df.sort_values(by=['fight_link'])\n",
        "\n",
        "# df['ones'] = 1\n",
        "df['order'] = df.groupby('fight_link')['ones'].cumsum()\n",
        "\n",
        "df['dups']  = df.groupby('fight_link')['order'].sum()\n",
        "\n",
        "\n",
        "df['dups']  = df.groupby('fight_link')['dec'].sum()\n",
        "\n",
        "# then you only want to drop one of two \n",
        "\n",
        "df.head(50)\n",
        "# create variable to determine what fights will be randomly dropped\n",
        "# run the logit model \n",
        "\n",
        "# then apply logit predictions to upcoming fights \n",
        "# store down the results as your fight predictions for win, ko, submission, decision\n",
        "\n",
        "# then you can prob bet using this model!! "
      ],
      "metadata": {
        "id": "CKv-rVe6qr_o"
      },
      "execution_count": null,
      "outputs": []
    },
    {
      "cell_type": "code",
      "source": [
        "df.to_excel('/content/drive/MyDrive/MMA Model/Data/ufcbouts_model_v1.xlsx')\n",
        "df.to_csv('/content/drive/MyDrive/MMA Model/Data/ufcbouts_model_v1.csv')\n",
        "# Download files if needed \n",
        "files.download('/content/drive/MyDrive/MMA Model/Data/ufcbouts_model_v1.csv')\n",
        "files.download('/content/drive/MyDrive/MMA Model/Data/ufcbouts_model_v1.xlsx')"
      ],
      "metadata": {
        "id": "5WU2HJ3iFb5P"
      },
      "execution_count": null,
      "outputs": []
    }
  ]
}