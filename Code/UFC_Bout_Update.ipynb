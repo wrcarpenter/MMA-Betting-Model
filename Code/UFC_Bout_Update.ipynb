{
  "nbformat": 4,
  "nbformat_minor": 0,
  "metadata": {
    "colab": {
      "provenance": [],
      "mount_file_id": "1XZALAvfYnFETZw4u10VnX_tXW_Q4TLwC",
      "authorship_tag": "ABX9TyMr9MB1Q7/TZPiJ8SGgqE14"
    },
    "kernelspec": {
      "name": "python3",
      "display_name": "Python 3"
    },
    "language_info": {
      "name": "python"
    }
  },
  "cells": [
    {
      "cell_type": "markdown",
      "source": [
        "# Importing"
      ],
      "metadata": {
        "id": "r1dEaWm5abQ2"
      }
    },
    {
      "cell_type": "code",
      "execution_count": null,
      "metadata": {
        "id": "tlaFk13PwBhg"
      },
      "outputs": [],
      "source": [
        "# Importing\n",
        "import requests\n",
        "import csv \n",
        "import re\n",
        "from bs4 import BeautifulSoup\n",
        "import pandas as pd\n",
        "import numpy as np\n",
        "import time\n",
        "from google.colab import files\n",
        "import datetime\n",
        "from datetime import date\n",
        "from pytz import timezone\n",
        "eastern = timezone('US/Eastern')\n",
        "import threading \n",
        "from concurrent.futures import ThreadPoolExecutor\n",
        "import multiprocessing\n",
        "cores = multiprocessing.cpu_count()"
      ]
    },
    {
      "cell_type": "markdown",
      "source": [
        "## Read in Dataset\n"
      ],
      "metadata": {
        "id": "zwOlHwo2aPNw"
      }
    },
    {
      "cell_type": "code",
      "source": [
        "source = 'https://raw.githubusercontent.com/wrcarpenter/MMA-Handicapping-Model/main/Data/ufcBouts.csv' # raw data\n",
        "\n",
        "df      = pd.read_csv(source, header=0)  # initial file \n",
        "df_orig = df  # store down a copy for reference if need be"
      ],
      "metadata": {
        "id": "GdSMsbIcwHjC"
      },
      "execution_count": null,
      "outputs": []
    },
    {
      "cell_type": "markdown",
      "source": [
        "# Test for New Data\n",
        "\n",
        "Get new events, new fighters, new fights by fighter. Then create a new dataset that can be quickly appended to the old data set to update. \n"
      ],
      "metadata": {
        "id": "RwoMcJKoaej2"
      }
    },
    {
      "cell_type": "code",
      "source": [
        "# Explore the dataset, you have all \n",
        "print(df.columns)\n",
        "print(df.shape)\n",
        "# tabulate DOB\n",
        "print(df['dob'].value_counts())\n",
        "# print(df['dob'].head(50))  # look at birthday variables\n",
        "print(len(pd.unique(df['name'])))  # unique fighters \n",
        "print(df.loc[df['dob'] == '--', ['name', 'weight', 'reach']])"
      ],
      "metadata": {
        "id": "NUb7Prt_S-E-"
      },
      "execution_count": null,
      "outputs": []
    },
    {
      "cell_type": "markdown",
      "source": [
        "# Create Variables \n",
        "\n",
        "Need to handle missing data: birthdays, reach, height, etc.\n",
        "\n",
        "Clean data for various variables and then being calculations to generate for model. "
      ],
      "metadata": {
        "id": "K9VvkMrAaiEO"
      }
    },
    {
      "cell_type": "code",
      "source": [
        "# test that both fighter and opponenet have same amount of blanks (or something is off in the data)\n",
        "print(sum(df[\"fighter_result\"] == \"-\"))\n",
        "print(sum(df[\"opponent_result\"] == \"-\"))\n",
        "\n",
        "# create test data where fight result was blank \n",
        "blank_results = df[df[\"fighter_result\"] == \"-\"]\n",
        "\n",
        "print(len(blank_results)) # this should match the number of blank results from before\n",
        "print(blank_results[\"event_date\"].value_counts()) # this is the true test ... all of these events should be somewhat recent \n",
        "\n",
        "# Drop all the blank result fights from the data to refresh \n",
        "df = df[df['fighter_result'] != \"-\"]\n",
        "print(len(df) - len(df_orig)) # shows that these values were dropped out\n"
      ],
      "metadata": {
        "id": "Xw8zstm9TI-1",
        "colab": {
          "base_uri": "https://localhost:8080/"
        },
        "outputId": "7071a879-dfbc-4fbb-f4e8-1197042be239"
      },
      "execution_count": null,
      "outputs": [
        {
          "output_type": "stream",
          "name": "stdout",
          "text": [
            "140\n",
            "140\n",
            "140\n",
            "8-Apr-23     28\n",
            "11-Mar-23    28\n",
            "18-Mar-23    28\n",
            "4-Mar-23     28\n",
            "25-Mar-23    24\n",
            "15-Apr-23     4\n",
            "Name: event_date, dtype: int64\n",
            "-140\n"
          ]
        }
      ]
    },
    {
      "cell_type": "markdown",
      "source": [
        "# Extract all the fighter URLS from UFC Site"
      ],
      "metadata": {
        "id": "Mv36P_RnDAB1"
      }
    },
    {
      "cell_type": "code",
      "source": [
        "new_data = [] \n",
        "cols              = pd.read_csv('https://raw.githubusercontent.com/wrcarpenter/MMA-Handicapping-Model/main/Data/fight_columns.csv', header=0)\n",
        "fighter_url_links = pd.read_csv('https://raw.githubusercontent.com/wrcarpenter/MMA-Handicapping-Model/main/Data/fighterLinks.csv', header=0) # replace this to run different tests \n",
        "# this should get all possible fighter url links on the UFC website\n",
        "fighter_urls = collect_fighter_urls(fighter_url_links)\n",
        "print(\"Fighter Links Total:\" ,len(fighter_urls))\n",
        "\n",
        "# Get all new data, scraping over every fighter listed on the site \n",
        "new_data = collect_new_bouts(fighter_urls, new_data, df)\n",
        "# Create a dataframe here\n",
        "pd_new_data = pd.DataFrame(new_data, columns=['name', 'fighter_link', 'fight_link'])\n",
        "# Scrape all new data \n",
        "new_bout_data = collect_bout_data(pd_new_data)\n",
        "\n",
        "# Update dataset and save it out \n",
        "columns_list = list(cols.columns.values)\n",
        "new_bout_data = pd.DataFrame(new_bout_data, columns= columns_list)\n",
        "update_df = pd.concat([df, new_bout_data])\n",
        "# Testing updated dataframe\n",
        "print(len(update_df))\n",
        "print(len(df) - len(update_df))\n",
        "# Save out dataframe to drive\n",
        "update_df.to_excel('/content/drive/MyDrive/MMA Model/Data/ufcBouts_v3.xlsx')\n",
        "update_df.to_csv('/content/drive/MyDrive/MMA Model/Data/ufcBouts_v3.csv')\n",
        "# Download files if needed \n",
        "files.download('/content/drive/MyDrive/MMA Model/Data/ufcBouts_v3.csv')\n",
        "\n",
        "\n",
        "files.download('/content/drive/MyDrive/UFC Model/Data/ufcFights_set3.xlsx')\n"
      ],
      "metadata": {
        "id": "mNy4wfkURtLN",
        "colab": {
          "base_uri": "https://localhost:8080/",
          "height": 17
        },
        "outputId": "44dff901-8a12-437e-b659-1c75833103cb"
      },
      "execution_count": null,
      "outputs": [
        {
          "output_type": "display_data",
          "data": {
            "text/plain": [
              "<IPython.core.display.Javascript object>"
            ],
            "application/javascript": [
              "\n",
              "    async function download(id, filename, size) {\n",
              "      if (!google.colab.kernel.accessAllowed) {\n",
              "        return;\n",
              "      }\n",
              "      const div = document.createElement('div');\n",
              "      const label = document.createElement('label');\n",
              "      label.textContent = `Downloading \"${filename}\": `;\n",
              "      div.appendChild(label);\n",
              "      const progress = document.createElement('progress');\n",
              "      progress.max = size;\n",
              "      div.appendChild(progress);\n",
              "      document.body.appendChild(div);\n",
              "\n",
              "      const buffers = [];\n",
              "      let downloaded = 0;\n",
              "\n",
              "      const channel = await google.colab.kernel.comms.open(id);\n",
              "      // Send a message to notify the kernel that we're ready.\n",
              "      channel.send({})\n",
              "\n",
              "      for await (const message of channel.messages) {\n",
              "        // Send a message to notify the kernel that we're ready.\n",
              "        channel.send({})\n",
              "        if (message.buffers) {\n",
              "          for (const buffer of message.buffers) {\n",
              "            buffers.push(buffer);\n",
              "            downloaded += buffer.byteLength;\n",
              "            progress.value = downloaded;\n",
              "          }\n",
              "        }\n",
              "      }\n",
              "      const blob = new Blob(buffers, {type: 'application/binary'});\n",
              "      const a = document.createElement('a');\n",
              "      a.href = window.URL.createObjectURL(blob);\n",
              "      a.download = filename;\n",
              "      div.appendChild(a);\n",
              "      a.click();\n",
              "      div.remove();\n",
              "    }\n",
              "  "
            ]
          },
          "metadata": {}
        },
        {
          "output_type": "display_data",
          "data": {
            "text/plain": [
              "<IPython.core.display.Javascript object>"
            ],
            "application/javascript": [
              "download(\"download_0238f4d1-93f0-4447-be03-b14780179fbb\", \"ufcBouts_v3.csv\", 8610961)"
            ]
          },
          "metadata": {}
        }
      ]
    },
    {
      "cell_type": "code",
      "source": [
        "new_bout_data"
      ],
      "metadata": {
        "id": "g75dgookHJeB"
      },
      "execution_count": null,
      "outputs": []
    },
    {
      "cell_type": "code",
      "source": [
        "def collect_new_bouts(fighter_urls, new_data, df):\n",
        " \n",
        " for fighter_url in fighter_urls:\n",
        "    \n",
        "    fighter_page  = requests.get(fighter_url)\n",
        "    fighter_soup  = BeautifulSoup(fighter_page.text, 'html.parser')\n",
        "    name          = fighter_soup.find_all('span', {'class' : 'b-content__title-highlight'})\n",
        "    fightLink  = 'http://ufcstats.com/fight-details/'     # UFC Fighter substring link\n",
        "    fightLink2 = 'http://www.ufcstats.com/fight-details/' # Second link to capture \"www\"\n",
        "    \n",
        "    for item in name:  \n",
        "        fighterName = item.text.strip()  \n",
        "\n",
        "    findUrls = fighter_soup.find_all('a')\n",
        "\n",
        "    urls = []\n",
        "    for link in findUrls:\n",
        "        pageLink = str(link.get('href'))\n",
        "        urls.append(pageLink)\n",
        "\n",
        "    fightUrls = []\n",
        "    for theLink in urls:\n",
        "      if (fightLink in theLink or fightLink2 in theLink) and theLink not in fightUrls:\n",
        "          fightUrls.append(theLink)\n",
        "      else: continue\n",
        "\n",
        "    for fight_url in fightUrls:\n",
        "      \n",
        "      search_url = fight_url\n",
        "\n",
        "      if 'www.' in fight_url:\n",
        "        search_url = fight_url.replace(\"www.\", \"\") \n",
        "      \n",
        "      if search_url not in df['fight_link'].unique():\n",
        "        print(\"New Link:  \", fighterName, fight_url)\n",
        "        new_info = [fighterName, fighter_url, fight_url]\n",
        "        new_data.append(new_info)\n",
        "    \n",
        " return new_data"
      ],
      "metadata": {
        "id": "WsX6asLbuToe"
      },
      "execution_count": null,
      "outputs": []
    },
    {
      "cell_type": "code",
      "source": [
        "def collect_fighter_urls(fighter_url_links):\n",
        "\n",
        "  fighter_urls = fighter_url_links.values.tolist()\n",
        "\n",
        "  fighterUrls = []\n",
        "  counter = 0\n",
        "\n",
        "  for url_for_letter in fighter_urls:\n",
        "    for link in url_for_letter:\n",
        "      \n",
        "      print(\"Parsing: \", link)\n",
        "\n",
        "      fighter_list_page = requests.get(link)\n",
        "      fighter_list_soup = BeautifulSoup(fighter_list_page.text, 'html.parser')\n",
        "      fighterLink = 'http://ufcstats.com/fighter-details/' # UFC Fighter substring link\n",
        "      fighter_findUrls = fighter_list_soup.find_all('a')\n",
        "\n",
        "      fighter_urls = []\n",
        "      for link in fighter_findUrls:\n",
        "          pageLink = str(link.get('href'))\n",
        "          fighter_urls.append(pageLink)\n",
        "\n",
        "      for theLink in fighter_urls:\n",
        "        if fighterLink in theLink:\n",
        "          if theLink not in fighterUrls:\n",
        "            fighterUrls.append(theLink)\n",
        "            counter += 1\n",
        "        else: continue\n",
        "\n",
        "  return fighterUrls"
      ],
      "metadata": {
        "id": "jsklASlfSPSL"
      },
      "execution_count": null,
      "outputs": []
    },
    {
      "cell_type": "code",
      "source": [
        "def collect_bout_data(pd_new_data):\n",
        "\n",
        "  new_bout_data = []\n",
        "  print(\"Size of new bout list:  \", len(pd_new_data))\n",
        "  count = 0\n",
        "\n",
        "  for row in range(0, len(pd_new_data)): \n",
        "\n",
        "    fighter_url = pd_new_data['fighter_link'].iloc[row]\n",
        "\n",
        "\n",
        "    # create list for fighter details\n",
        "    fighter_profile_base = []\n",
        "\n",
        "    fighter_page  = requests.get(fighter_url)\n",
        "    fighter_soup  = BeautifulSoup(fighter_page.text, 'html.parser')\n",
        "\n",
        "    fighter_title = fighter_soup.find_all('li', {'class' : \"b-list__box-list-item b-list__box-list-item_type_block\"})\n",
        "    name          = fighter_soup.find_all('span', {'class' : 'b-content__title-highlight'})\n",
        "    nickName      = fighter_soup.find_all('p', {'class' : \"b-content__Nickname\"})\n",
        "\n",
        "    for item in name:  \n",
        "      fighterName = item.text.strip()     \n",
        "\n",
        "    for item in nickName:\n",
        "      nickname = item.text.strip()\n",
        "      if nickname == '':\n",
        "        nickname = '-'\n",
        "            \n",
        "    # Get basic fighter information, some info could be missing\n",
        "    for item in fighter_title:\n",
        "      \n",
        "      word = item.text.strip()\n",
        "\n",
        "      if 'Height:' in word: \n",
        "          height = word.replace('Height:', '').strip()    \n",
        "      \n",
        "      elif 'Weight:' in word: \n",
        "          weight = word.replace('Weight:', '').strip()\n",
        "      \n",
        "      elif 'DOB:' in word:\n",
        "          dob =    word.replace('DOB:', '').strip()\n",
        "          if dob == '' or dob == ' ': \n",
        "            dob = '-'\n",
        "      \n",
        "      elif 'STANCE' in word:\n",
        "          stance = word.replace('STANCE:', '').strip()\n",
        "          if stance == '' or stance ==' ':\n",
        "            stance = '-'\n",
        "      \n",
        "      elif 'Reach:' in word:\n",
        "          reach =  word.replace('Reach:', '').strip()\n",
        "          if reach == '' or reach==' ':\n",
        "            reach = '-'\n",
        "\n",
        "      else:\n",
        "        continue\n",
        "\n",
        "    # Create base fighter profile \n",
        "    fighter_profile_base.append(fighter_url)\n",
        "    fighter_profile_base.append(fighterName)\n",
        "    fighter_profile_base.append(nickname)\n",
        "    fighter_profile_base.append(dob)\n",
        "    fighter_profile_base.append(height)\n",
        "    fighter_profile_base.append(weight)\n",
        "    fighter_profile_base.append(reach) \n",
        "    fighter_profile_base.append(stance)\n",
        "\n",
        "    print('Adding new fight for: ', fighterName, \"...Parsed: \", count, \" / \", len(pd_new_data))\n",
        "\n",
        "    count = count+1\n",
        "    \n",
        "    # get each fight URL from a fighter page\n",
        "    fightLink  = 'http://ufcstats.com/fight-details/'     # UFC Fighter substring link\n",
        "    fightLink2 = 'http://www.ufcstats.com/fight-details/' # Second link to capture \"www\"\n",
        "\n",
        "    fight_row = []\n",
        "\n",
        "    fight_url  = pd_new_data['fight_link'].iloc[row]\n",
        "\n",
        "    fight_page = requests.get(fight_url)\n",
        "    fight_soup = BeautifulSoup(fight_page.text, 'html.parser')\n",
        "\n",
        "    event_title = fight_soup.find_all('h2', {'class' : 'b-content__title'})\n",
        "\n",
        "    link_of_event = '-'\n",
        "    event_date = '-'\n",
        "      \n",
        "    event_sublink1 = 'http://http://ufcstats.com/event-details/b0a6124751a56bc4'\n",
        "    event_sublink2 = 'http://www.ufcstats.com/event-details/'\n",
        "    event_sublink3 = 'ufcstats.com/event-details/'\n",
        "\n",
        "    event_urls = fight_soup.find_all('a')\n",
        "\n",
        "    for link in event_urls:\n",
        "      pagelink = str(link.get('href'))\n",
        "        \n",
        "      if (event_sublink1 in pagelink or event_sublink2 in pagelink \\\n",
        "          or event_sublink3 in pagelink):\n",
        "          \n",
        "          link_of_event = pagelink\n",
        "          event_page    = requests.get(link_of_event)\n",
        "          event_soup    = BeautifulSoup(event_page.text, 'html.parser')\n",
        "          event_details = event_soup.find_all('li', {'class' : 'b-list__box-list-item'})\n",
        "\n",
        "          for detail in event_details:\n",
        "            detail_text = detail.text.strip()\n",
        "            if 'Date:' in detail_text: \n",
        "                event_date = detail_text.replace('Date:', '').strip()\n",
        "\n",
        "    for item in event_title:\n",
        "      event = item.text.strip()\n",
        "      fight_row.append(fight_url)\n",
        "      fight_row.append(event)\n",
        "\n",
        "    fight_row.append(link_of_event)\n",
        "    fight_row.append(event_date) \n",
        "\n",
        "    fight_outcomes = fight_soup.find_all(\"div\", {'class' : 'b-fight-details__person'})\n",
        "        \n",
        "    for fighter in fight_outcomes:\n",
        "      opponent = False\n",
        "      results = fighter.findAll('i')\n",
        "      links   = fighter.findAll('a')\n",
        "\n",
        "      for a in links:\n",
        "            name = a.text.strip()\n",
        "            if name != fighterName:\n",
        "              opponent = True\n",
        "              opponentName = name\n",
        "              opponentLink = str(a.get('href'))\n",
        "\n",
        "      for result in results:\n",
        "          fight_result  = result.text.strip()\n",
        "          if not opponent:\n",
        "            fighter_result = fight_result \n",
        "          else:\n",
        "            opponent_result = fight_result  \n",
        "\n",
        "    fight_row.append(fighterName)\n",
        "    fight_row.append(opponentName)\n",
        "    fight_row.append(opponentLink)\n",
        "    fight_row.append(fighter_result)\n",
        "    fight_row.append(opponent_result)\n",
        "\n",
        "    fight_title = fight_soup.find_all('i', {'class' : \"b-fight-details__fight-title\"})\n",
        "\n",
        "    for item in fight_title:\n",
        "\n",
        "      type_of_fight = item.text.strip()\n",
        "      fight_row.append(type_of_fight)\n",
        "        \n",
        "      bonuses = item.findAll('img')\n",
        "      belt,perf,fon,sub,ko = '-','-','-','-','-'\n",
        "\n",
        "      for bonus in bonuses:\n",
        "        if 'belt.png' in bonus['src']:  belt = 1 \n",
        "        if 'perf.png' in bonus['src']:  perf = 1\n",
        "        if 'fight.png' in bonus['src']: fon  = 1\n",
        "        if 'sub.png' in bonus['src']:   sub  = 1 \n",
        "        if 'ko.png' in bonus['src']:    ko   = 1 \n",
        "  \n",
        "    fight_row.append(belt)\n",
        "    fight_row.append(perf)\n",
        "    fight_row.append(fon)\n",
        "    fight_row.append(sub)\n",
        "    fight_row.append(ko)\n",
        "      \n",
        "    # Fight statistics \n",
        "    fight_table  = fight_soup.find_all(True, {'class' : [\"b-fight-details__text-item\", \"b-fight-details__text-item_first\"]})\n",
        "    detail_section = False\n",
        "    det = '-' \n",
        "    method, round, time, timeFormat = '-', '-', '-', '-'\n",
        "\n",
        "    # Basic fight summary statistics \n",
        "    for item in fight_table:\n",
        "        word = item.text.strip()\n",
        "        word = ' '.join(word.split())\n",
        "        if 'Method:' in word: \n",
        "            method = word.replace('Method:', '').strip()\n",
        "        if 'Round:' in word: \n",
        "              round  = word.replace('Round:', '').strip()\n",
        "        if 'Time:' in word:\n",
        "              time   = word.replace('Time:', '').strip()\n",
        "        if 'Time format:' in word:\n",
        "              timeFormat = word.replace('Time format:', '').strip() \n",
        "\n",
        "    fight_row.append(method)\n",
        "    fight_row.append(round)\n",
        "    fight_row.append(time)\n",
        "    fight_row.append(timeFormat)\n",
        "\n",
        "    fight_details  = fight_soup.find_all(True, {'class' : \"b-fight-details__text\"})\n",
        "\n",
        "    details = '-'\n",
        "    for item in fight_details:\n",
        "        \n",
        "      word = item.text.strip()\n",
        "      word = ' '.join(word.split())\n",
        "        \n",
        "      if 'Details:' in word:\n",
        "        details = ' '.join(word.split()) \n",
        "        details = details.replace('Details:', '')\n",
        "        details = details.strip()\n",
        "        \n",
        "      else:\n",
        "          details = '-'\n",
        "\n",
        "    fight_row.append(details)\n",
        "\n",
        "    full_row = fighter_profile_base + fight_row\n",
        "    new_bout_data.append(full_row)\n",
        "  \n",
        "  return new_bout_data"
      ],
      "metadata": {
        "id": "V0V5VMTAFuWh"
      },
      "execution_count": null,
      "outputs": []
    }
  ]
}