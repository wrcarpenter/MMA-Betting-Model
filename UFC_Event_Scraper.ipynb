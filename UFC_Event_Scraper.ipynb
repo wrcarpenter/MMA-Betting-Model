{
  "nbformat": 4,
  "nbformat_minor": 0,
  "metadata": {
    "colab": {
      "name": "UFC-Event-Scraper.ipynb",
      "provenance": [],
      "collapsed_sections": []
    },
    "kernelspec": {
      "name": "python3",
      "display_name": "Python 3"
    },
    "language_info": {
      "name": "python"
    }
  },
  "cells": [
    {
      "cell_type": "code",
      "metadata": {
        "id": "deKalssaqdoc"
      },
      "source": [
        "# Project:     UFC Event Scraper \n",
        "# Author:      Will Carpenter\n",
        "# Date:        Feb 4th, 2022 \n",
        "\n",
        "# Importing \n",
        "import requests\n",
        "import csv \n",
        "import re\n",
        "from bs4 import BeautifulSoup\n",
        "import pandas as pd\n",
        "import numpy as np\n",
        "import time\n",
        "from google.colab import files\n",
        "import datetime\n",
        "from datetime import date\n",
        "from pytz import timezone\n",
        "eastern = timezone('US/Eastern')\n",
        "import threading \n",
        "from concurrent.futures import ThreadPoolExecutor\n",
        "import multiprocessing\n",
        "cores = multiprocessing.cpu_count()"
      ],
      "execution_count": 31,
      "outputs": []
    },
    {
      "cell_type": "code",
      "metadata": {
        "id": "0KnOsxNlqvKJ",
        "colab": {
          "base_uri": "https://localhost:8080/"
        },
        "outputId": "1c077801-0693-4605-e60c-623678655e6e"
      },
      "source": [
        "# Scrape all UFC event urls from the landing page\n",
        "\n",
        "start_time = time.time()\n",
        "\n",
        "events_upcoming  = 'http://ufcstats.com/statistics/events/upcoming?page=all'\n",
        "events_completed = 'http://ufcstats.com/statistics/events/completed?page=all'\n",
        "\n",
        "# get all event details from both those pages and add to a big list \n",
        "# loop through the big list and retrieve relavent information (date, location, fightsListed)\n",
        "\n",
        "event_string = 'http://ufcstats.com/event-details/'\n",
        "\n",
        "completed_page       = requests.get(events_completed)\n",
        "completed_soup       = BeautifulSoup(completed_page.text, 'html.parser')\n",
        "all_completed_events = completed_soup.find_all('a')\n",
        "\n",
        "upcoming_page        = requests.get(events_upcoming)\n",
        "upcoming_soup        = BeautifulSoup(upcoming_page.text, 'html.parser')\n",
        "all_upcoming_events  = upcoming_soup.find_all('a')\n",
        "\n",
        "ufcEventsLinks = []\n",
        "\n",
        "# completed events page list \n",
        "for event in all_completed_events:\n",
        "  link = str(event.get('href'))\n",
        "  if event_string in link: \n",
        "    ufcEventsLinks.append(link) \n",
        "    # print(link)\n",
        "\n",
        "# upcoming events page links \n",
        "for event in all_upcoming_events:\n",
        "  link = str(event.get('href'))\n",
        "  if event_string in link:\n",
        "    ufcEventsLinks.append(link)\n",
        "    # rint(link)\n",
        "\n",
        "# ~1 seconds runtime\n",
        "print('Time to execute: ', \"{:0.5f}\".format(time.time() - start_time))\n",
        "\n",
        "# ufcEventsLinks\n"
      ],
      "execution_count": 37,
      "outputs": [
        {
          "output_type": "stream",
          "name": "stdout",
          "text": [
            "Time to execute:  1.01023\n"
          ]
        }
      ]
    },
    {
      "cell_type": "code",
      "source": [
        "# ufcEvents = []\n",
        "\n",
        "def concurrent_ufc_events(ufcEventsLinks, increments):\n",
        "  start_time = time.time()\n",
        "  ufcEvents = dict()\n",
        "\n",
        "  with ThreadPoolExecutor(max_workers = increments) as executor:\n",
        "    for eventLink in ufcEventsLinks:\n",
        "      try:\n",
        "      # get the data and add to a master data file\n",
        "        ufcEvents[eventLink] = executor.submit(get_event_data, eventLink)\n",
        "        # ufcEvents.append(eventData)\n",
        "      except:\n",
        "        print(\"Error on link: \", eventLink)  \n",
        "  \n",
        "  completion_time = time.time() - start_time\n",
        "  print(\"Time to complete: \", completion_time)\n",
        "  to_return = {eventLink : future.result() for eventLink, future in ufcEvents.items()}\n",
        "  return to_return\n",
        "\n",
        "def get_event_data(eventLink):\n",
        "  eventRow = []\n",
        "  title           = \"---\"\n",
        "  location        = \"---\"\n",
        "  date            = \"---\"\n",
        "  listedFights    = 0\n",
        "  #if eventCount % 10 == 0: \n",
        "  #  print('Events parsed: ', eventCount)\n",
        "  #eventCount +=1 \n",
        "  \n",
        "  event_page = requests.get(eventLink)\n",
        "  event_soup = BeautifulSoup(event_page.text, 'html.parser')\n",
        "  event_details = event_soup.find_all('li', {'class' : 'b-list__box-list-item'})\n",
        "  event_title   = event_soup.find_all('h2', {'class' : 'b-content__title' })\n",
        "  event_fights  = event_soup.find_all('a')\n",
        "\n",
        "  for text in event_title:\n",
        "    title = text.text.strip()\n",
        "\n",
        "  for detail in event_details:\n",
        "    detail_text = detail.text.strip()\n",
        "    if 'Date:' in detail_text: \n",
        "          date = detail_text.replace('Date:', '').strip()\n",
        "    if 'Location' in detail_text: \n",
        "          location = detail_text.replace('Location:', '').strip()\n",
        "\n",
        "  # count fights in every completed event \n",
        "  fight_string = 'http://ufcstats.com/fight-details/'\n",
        "  for fight in event_fights:\n",
        "    if fight_string in str(fight.get('href')):\n",
        "        listedFights += 1\n",
        "\n",
        "  # print(eventLink)\n",
        "  # print(title)\n",
        "  # print(date)\n",
        "  # print(location)\n",
        "  # print(listedFights)    \n",
        " \n",
        "  eventRow.append(eventLink)\n",
        "  eventRow.append(title)\n",
        "  eventRow.append(date)\n",
        "  eventRow.append(location)\n",
        "  eventRow.append(listedFights)\n",
        "\n",
        "  return eventRow"
      ],
      "metadata": {
        "id": "OboRY_hNdIKh"
      },
      "execution_count": 38,
      "outputs": []
    },
    {
      "cell_type": "code",
      "source": [
        "events = concurrent_ufc_events(ufcEventsLinks, 8) # use 8 workers for ~45 second runtime\n",
        "ufcEvents = []\n",
        "\n",
        "for url in events:\n",
        "  row = events[url]\n",
        "  ufcEvents.append(row)  "
      ],
      "metadata": {
        "id": "BCocOw0rfzgf"
      },
      "execution_count": null,
      "outputs": []
    },
    {
      "cell_type": "code",
      "metadata": {
        "id": "OKc-eW-ohqDg"
      },
      "source": [
        "# Create and clean dataset \n",
        "\n",
        "today = datetime.date.today()\n",
        "print(\"Today's date:\", today)\n",
        "\n",
        "df = pd.DataFrame(ufcEvents, columns=['eventLink', 'eventName', 'eventDateString', 'eventLocation', \\\n",
        "                                     'eventListedFights'])\n",
        "# Clean/engineer dataset \n",
        "df['eventDateString'] = df['eventDateString'].replace(',', '', regex=True)\n",
        "df['date'] = pd.to_datetime(df['eventDateString'], format=\"%B %d %Y\")\n",
        "df['date'] = df['date'].dt.date\n",
        "df = df.sort_values(by=['date'], ascending=False)\n",
        "df['upcoming'] = np.where(df['date']>today,1,0)\n",
        "df # show the final dataset \n",
        "\n",
        "# df['date'] = df['eventDateString'].datetime.strptime(df['eventDateString'], \"%B %d %Y\")\n",
        "\n"
      ],
      "execution_count": null,
      "outputs": []
    },
    {
      "cell_type": "code",
      "metadata": {
        "id": "2H75h1BezO7y",
        "colab": {
          "base_uri": "https://localhost:8080/",
          "height": 17
        },
        "outputId": "d2aa4748-f6fb-4bea-ace8-9eca00c71127"
      },
      "source": [
        "# Export to Drive and Download\n",
        "df.to_excel('/content/drive/MyDrive/UFC Model/ufcEventsList.xlsx')\n",
        "df.to_csv('/content/drive/MyDrive/UFC Model/ufcEventsList.csv')\n",
        "files.download('/content/drive/MyDrive/UFC Model/ufcEventsList.csv')\n"
      ],
      "execution_count": 42,
      "outputs": [
        {
          "output_type": "display_data",
          "data": {
            "application/javascript": [
              "\n",
              "    async function download(id, filename, size) {\n",
              "      if (!google.colab.kernel.accessAllowed) {\n",
              "        return;\n",
              "      }\n",
              "      const div = document.createElement('div');\n",
              "      const label = document.createElement('label');\n",
              "      label.textContent = `Downloading \"${filename}\": `;\n",
              "      div.appendChild(label);\n",
              "      const progress = document.createElement('progress');\n",
              "      progress.max = size;\n",
              "      div.appendChild(progress);\n",
              "      document.body.appendChild(div);\n",
              "\n",
              "      const buffers = [];\n",
              "      let downloaded = 0;\n",
              "\n",
              "      const channel = await google.colab.kernel.comms.open(id);\n",
              "      // Send a message to notify the kernel that we're ready.\n",
              "      channel.send({})\n",
              "\n",
              "      for await (const message of channel.messages) {\n",
              "        // Send a message to notify the kernel that we're ready.\n",
              "        channel.send({})\n",
              "        if (message.buffers) {\n",
              "          for (const buffer of message.buffers) {\n",
              "            buffers.push(buffer);\n",
              "            downloaded += buffer.byteLength;\n",
              "            progress.value = downloaded;\n",
              "          }\n",
              "        }\n",
              "      }\n",
              "      const blob = new Blob(buffers, {type: 'application/binary'});\n",
              "      const a = document.createElement('a');\n",
              "      a.href = window.URL.createObjectURL(blob);\n",
              "      a.download = filename;\n",
              "      div.appendChild(a);\n",
              "      a.click();\n",
              "      div.remove();\n",
              "    }\n",
              "  "
            ],
            "text/plain": [
              "<IPython.core.display.Javascript object>"
            ]
          },
          "metadata": {}
        },
        {
          "output_type": "display_data",
          "data": {
            "application/javascript": [
              "download(\"download_bac97298-d173-4127-9fd5-0d40b54d0f86\", \"ufcEventsList.csv\", 87422)"
            ],
            "text/plain": [
              "<IPython.core.display.Javascript object>"
            ]
          },
          "metadata": {}
        }
      ]
    }
  ]
}