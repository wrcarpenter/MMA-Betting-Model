{
  "nbformat": 4,
  "nbformat_minor": 0,
  "metadata": {
    "colab": {
      "name": "UFC-Event-Scraper.ipynb",
      "provenance": [],
      "collapsed_sections": []
    },
    "kernelspec": {
      "name": "python3",
      "display_name": "Python 3"
    },
    "language_info": {
      "name": "python"
    }
  },
  "cells": [
    {
      "cell_type": "code",
      "metadata": {
        "id": "deKalssaqdoc"
      },
      "source": [
        "# Importing \n",
        "import requests\n",
        "import csv \n",
        "import re\n",
        "from bs4 import BeautifulSoup\n",
        "import pandas as pd\n",
        "import numpy as np\n",
        "from google.colab import files\n",
        "import datetime\n",
        "from datetime import date\n",
        "from pytz import timezone\n",
        "eastern = timezone('US/Eastern')"
      ],
      "execution_count": null,
      "outputs": []
    },
    {
      "cell_type": "code",
      "metadata": {
        "id": "0KnOsxNlqvKJ"
      },
      "source": [
        "# get Event data page \n",
        "\n",
        "events_upcoming  = 'http://ufcstats.com/statistics/events/upcoming?page=all'\n",
        "events_completed = 'http://ufcstats.com/statistics/events/completed?page=all'\n",
        "\n",
        "# get all event details from both those pages and add to a big list \n",
        "# loop through the big list and retrieve relavent information (date, location, fightsListed)\n",
        "\n",
        "event_string = 'http://ufcstats.com/event-details/'\n",
        "\n",
        "completed_page       = requests.get(events_completed)\n",
        "completed_soup       = BeautifulSoup(completed_page.text, 'html.parser')\n",
        "all_completed_events = completed_soup.find_all('a')\n",
        "\n",
        "upcoming_page        = requests.get(events_upcoming)\n",
        "upcoming_soup        = BeautifulSoup(upcoming_page.text, 'html.parser')\n",
        "all_upcoming_events  = upcoming_soup.find_all('a')\n",
        "\n",
        "ufcEventsLinks = []\n",
        "ufcEvents      = []\n",
        "\n",
        "# completed events page list \n",
        "for event in all_completed_events:\n",
        "  link = str(event.get('href'))\n",
        "  if event_string in link: \n",
        "    ufcEventsLinks.append(link) \n",
        "    print(link)\n",
        "print('----------------------------------')\n",
        "# upcoming events page links \n",
        "for event in all_upcoming_events:\n",
        "  link = str(event.get('href'))\n",
        "  if event_string in link:\n",
        "    ufcEventsLinks.append(link)\n",
        "    print(link)\n"
      ],
      "execution_count": null,
      "outputs": []
    },
    {
      "cell_type": "code",
      "metadata": {
        "id": "RI2SxFVhXmQo"
      },
      "source": [
        "ufcEventsLinks"
      ],
      "execution_count": null,
      "outputs": []
    },
    {
      "cell_type": "code",
      "metadata": {
        "id": "Lte6ui-4TKxx"
      },
      "source": [
        "for eventLink in ufcEventsLinks:\n",
        "  eventRow = []\n",
        "  title           = \"---\"\n",
        "  location        = \"---\"\n",
        "  date            = \"---\"\n",
        "  listedFights    = 0 \n",
        "  \n",
        "  event_page = requests.get(eventLink)\n",
        "  event_soup = BeautifulSoup(event_page.text, 'html.parser')\n",
        "  event_details = event_soup.find_all('li', {'class' : 'b-list__box-list-item'})\n",
        "  event_title   = event_soup.find_all('h2', {'class' : 'b-content__title' })\n",
        "  event_fights  = event_soup.find_all('a')\n",
        "\n",
        "  for text in event_title:\n",
        "    title = text.text.strip()\n",
        "\n",
        "  for detail in event_details:\n",
        "    detail_text = detail.text.strip()\n",
        "    if 'Date:' in detail_text: \n",
        "          date = detail_text.replace('Date:', '').strip()\n",
        "    if 'Location' in detail_text: \n",
        "          location = detail_text.replace('Location:', '').strip()\n",
        "\n",
        "  # count fights in every completed event \n",
        "  fight_string = 'http://ufcstats.com/fight-details/'\n",
        "  for fight in event_fights:\n",
        "    if fight_string in str(fight.get('href')):\n",
        "        listedFights += 1\n",
        "\n",
        "  # print(eventLink)\n",
        "  # print(title)\n",
        "  # print(date)\n",
        "  # print(location)\n",
        "  # print(listedFights)    \n",
        " \n",
        "  eventRow.append(eventLink)\n",
        "  eventRow.append(title)\n",
        "  eventRow.append(date)\n",
        "  eventRow.append(location)\n",
        "  eventRow.append(listedFights)\n",
        "  ufcEvents.append(eventRow)\n",
        "\n",
        "  # Code takes 4 minutes to run \n",
        "  "
      ],
      "execution_count": null,
      "outputs": []
    },
    {
      "cell_type": "code",
      "metadata": {
        "id": "OKc-eW-ohqDg"
      },
      "source": [
        "# Create and clean dataset \n",
        "\n",
        "today = datetime.date.today()\n",
        "print(\"Today's date:\", today)\n",
        "\n",
        "df = pd.DataFrame(ufcEvents, columns=['eventLink', 'eventName', 'eventDateString', 'eventLocation', \\\n",
        "                                     'eventListedFights'])\n",
        "\n",
        "\n",
        "# Clean/engineer dataset \n",
        "df['eventDateString'] = df['eventDateString'].replace(',', '', regex=True)\n",
        "df['date'] = pd.to_datetime(df['eventDateString'], format=\"%B %d %Y\")\n",
        "df['date'] = df['date'].dt.date\n",
        "df = df.sort_values(by=['date'], ascending=False)\n",
        "df['upcoming'] = np.where(df['date']>today,1,0)\n",
        "df\n",
        "\n",
        "# df['date'] = df['eventDateString'].datetime.strptime(df['eventDateString'], \"%B %d %Y\")\n",
        "\n"
      ],
      "execution_count": null,
      "outputs": []
    },
    {
      "cell_type": "code",
      "metadata": {
        "id": "2H75h1BezO7y"
      },
      "source": [
        "# Export to Drive and Download\n",
        "df.to_excel('/content/drive/MyDrive/UFC Model/ufcEventsList.xlsx')\n",
        "files.download('/content/drive/MyDrive/UFC Model/ufcEventsList.xlsx')\n"
      ],
      "execution_count": null,
      "outputs": []
    },
    {
      "cell_type": "code",
      "metadata": {
        "id": "IUHveRwl0eE5"
      },
      "source": [
        "  event_page = requests.get('http://ufcstats.com/event-details/509697e08673d2e5')\n",
        "  event_soup = BeautifulSoup(event_page.text, 'html.parser')\n",
        "  event_details = event_soup.find_all('li', {'class' : 'b-list__box-list-item'})\n",
        "  event_title   = event_soup.find_all('h2', {'class' : 'b-content__title' })\n",
        "  event_fights  = event_soup.find_all('a')"
      ],
      "execution_count": null,
      "outputs": []
    },
    {
      "cell_type": "code",
      "metadata": {
        "id": "Y2QHRQss0sa8"
      },
      "source": [
        "  listedFights = 0\n",
        "  fight_string = \"http://ufcstats.com/fight-details/\"\n",
        "  \n",
        "  for fight in event_fights:\n",
        "    print(str(fight.get('href')))\n",
        "    if fight_string in str(fight.get('href')):\n",
        "        listedFights += 1\n",
        "        print(str(fight.get('href')))\n",
        "  listedFights      "
      ],
      "execution_count": null,
      "outputs": []
    },
    {
      "cell_type": "code",
      "metadata": {
        "id": "B-DBtRev1SiN"
      },
      "source": [
        "event_fights"
      ],
      "execution_count": null,
      "outputs": []
    }
  ]
}